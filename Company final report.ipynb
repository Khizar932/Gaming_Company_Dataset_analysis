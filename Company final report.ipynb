{
 "cells": [
  {
   "cell_type": "markdown",
   "id": "klC-w4382W1V",
   "metadata": {
    "id": "klC-w4382W1V"
   },
   "source": [
    "# Data Science QUESTION 2\n",
    "\n",
    "  \n",
    "You'll be asked to do some analysis and modeling tasks on a dataset created.  \n",
    "The dataset concerns a video gaming company that has information on its customers and would like to gain more insights on what drives their customers to play for longer hours.  \n",
    "\n",
    "The following tables are provided:"
   ]
  },
  {
   "cell_type": "code",
   "execution_count": null,
   "id": "e7zXjrKU2uSq",
   "metadata": {
    "id": "e7zXjrKU2uSq"
   },
   "outputs": [],
   "source": [
    "from google.colab import drive\n",
    "drive.mount('/content/drive')"
   ]
  },
  {
   "cell_type": "code",
   "execution_count": 1,
   "id": "DiznI9iQ2W1d",
   "metadata": {
    "id": "DiznI9iQ2W1d"
   },
   "outputs": [],
   "source": [
    "import pandas as pd\n",
    "import numpy as np"
   ]
  },
  {
   "cell_type": "code",
   "execution_count": 2,
   "id": "HlC1-PC02W1e",
   "metadata": {
    "id": "HlC1-PC02W1e"
   },
   "outputs": [],
   "source": [
    "df_districts_house_prices = pd.read_csv(\"df_districts_house_prices.csv\")\n",
    "df_person_data = pd.read_csv(\"df_person_data.csv\")\n",
    "df_person_district = pd.read_csv(\"df_person_district.csv\")"
   ]
  },
  {
   "cell_type": "markdown",
   "id": "ge2OZRNM2W1f",
   "metadata": {
    "id": "ge2OZRNM2W1f"
   },
   "source": [
    "df_person_district\n",
    "\n",
    "includes information about each customer (person) and the district they live in\n",
    "\n",
    "- person_id: the person id\n",
    "- district: the name of the district"
   ]
  },
  {
   "cell_type": "code",
   "execution_count": null,
   "id": "V3Ky0sHC2W1f",
   "metadata": {
    "colab": {
     "base_uri": "https://localhost:8080/",
     "height": 424
    },
    "id": "V3Ky0sHC2W1f",
    "outputId": "ab79cf38-f672-44c7-f158-ed1f255cc136"
   },
   "outputs": [
    {
     "data": {
      "text/html": [
       "\n",
       "  <div id=\"df-c4a19e68-7e43-48ae-8b05-5874c97bf071\">\n",
       "    <div class=\"colab-df-container\">\n",
       "      <div>\n",
       "<style scoped>\n",
       "    .dataframe tbody tr th:only-of-type {\n",
       "        vertical-align: middle;\n",
       "    }\n",
       "\n",
       "    .dataframe tbody tr th {\n",
       "        vertical-align: top;\n",
       "    }\n",
       "\n",
       "    .dataframe thead th {\n",
       "        text-align: right;\n",
       "    }\n",
       "</style>\n",
       "<table border=\"1\" class=\"dataframe\">\n",
       "  <thead>\n",
       "    <tr style=\"text-align: right;\">\n",
       "      <th></th>\n",
       "      <th>person_id</th>\n",
       "      <th>district</th>\n",
       "    </tr>\n",
       "  </thead>\n",
       "  <tbody>\n",
       "    <tr>\n",
       "      <th>0</th>\n",
       "      <td>50c4c7e2-89a6-440b-a8e3-c44aa2c6150e</td>\n",
       "      <td>Metdunstone</td>\n",
       "    </tr>\n",
       "    <tr>\n",
       "      <th>1</th>\n",
       "      <td>16f3bafb-9556-434e-adab-cb02f41fe32a</td>\n",
       "      <td>Tashnerspool</td>\n",
       "    </tr>\n",
       "    <tr>\n",
       "      <th>2</th>\n",
       "      <td>0fa17eee-7214-4609-97fe-dd3093601800</td>\n",
       "      <td>Tashnerspool</td>\n",
       "    </tr>\n",
       "    <tr>\n",
       "      <th>3</th>\n",
       "      <td>8db4ca66-dfb2-43f2-9c22-aa861dd0d218</td>\n",
       "      <td>Ulven</td>\n",
       "    </tr>\n",
       "    <tr>\n",
       "      <th>4</th>\n",
       "      <td>51fed64a-375e-417f-94e4-4d27c368ea44</td>\n",
       "      <td>Red Onvey</td>\n",
       "    </tr>\n",
       "    <tr>\n",
       "      <th>...</th>\n",
       "      <td>...</td>\n",
       "      <td>...</td>\n",
       "    </tr>\n",
       "    <tr>\n",
       "      <th>69995</th>\n",
       "      <td>8cbea1e2-3257-4db5-ae59-84faa48cfde2</td>\n",
       "      <td>Bluffssel</td>\n",
       "    </tr>\n",
       "    <tr>\n",
       "      <th>69996</th>\n",
       "      <td>e099ace5-a760-4362-a9ea-ae8cee590b86</td>\n",
       "      <td>Highnantmar</td>\n",
       "    </tr>\n",
       "    <tr>\n",
       "      <th>69997</th>\n",
       "      <td>e9b0604e-ec84-4704-8e75-eabfd59ac4fb</td>\n",
       "      <td>Tashnerspool</td>\n",
       "    </tr>\n",
       "    <tr>\n",
       "      <th>69998</th>\n",
       "      <td>e20f8ec5-0ddf-4674-ac1f-d6280b6640ab</td>\n",
       "      <td>Highnantmar</td>\n",
       "    </tr>\n",
       "    <tr>\n",
       "      <th>69999</th>\n",
       "      <td>4d86ea85-2eaf-457a-bdba-73ff21830588</td>\n",
       "      <td>San Readma</td>\n",
       "    </tr>\n",
       "  </tbody>\n",
       "</table>\n",
       "<p>70000 rows × 2 columns</p>\n",
       "</div>\n",
       "      <button class=\"colab-df-convert\" onclick=\"convertToInteractive('df-c4a19e68-7e43-48ae-8b05-5874c97bf071')\"\n",
       "              title=\"Convert this dataframe to an interactive table.\"\n",
       "              style=\"display:none;\">\n",
       "        \n",
       "  <svg xmlns=\"http://www.w3.org/2000/svg\" height=\"24px\"viewBox=\"0 0 24 24\"\n",
       "       width=\"24px\">\n",
       "    <path d=\"M0 0h24v24H0V0z\" fill=\"none\"/>\n",
       "    <path d=\"M18.56 5.44l.94 2.06.94-2.06 2.06-.94-2.06-.94-.94-2.06-.94 2.06-2.06.94zm-11 1L8.5 8.5l.94-2.06 2.06-.94-2.06-.94L8.5 2.5l-.94 2.06-2.06.94zm10 10l.94 2.06.94-2.06 2.06-.94-2.06-.94-.94-2.06-.94 2.06-2.06.94z\"/><path d=\"M17.41 7.96l-1.37-1.37c-.4-.4-.92-.59-1.43-.59-.52 0-1.04.2-1.43.59L10.3 9.45l-7.72 7.72c-.78.78-.78 2.05 0 2.83L4 21.41c.39.39.9.59 1.41.59.51 0 1.02-.2 1.41-.59l7.78-7.78 2.81-2.81c.8-.78.8-2.07 0-2.86zM5.41 20L4 18.59l7.72-7.72 1.47 1.35L5.41 20z\"/>\n",
       "  </svg>\n",
       "      </button>\n",
       "      \n",
       "  <style>\n",
       "    .colab-df-container {\n",
       "      display:flex;\n",
       "      flex-wrap:wrap;\n",
       "      gap: 12px;\n",
       "    }\n",
       "\n",
       "    .colab-df-convert {\n",
       "      background-color: #E8F0FE;\n",
       "      border: none;\n",
       "      border-radius: 50%;\n",
       "      cursor: pointer;\n",
       "      display: none;\n",
       "      fill: #1967D2;\n",
       "      height: 32px;\n",
       "      padding: 0 0 0 0;\n",
       "      width: 32px;\n",
       "    }\n",
       "\n",
       "    .colab-df-convert:hover {\n",
       "      background-color: #E2EBFA;\n",
       "      box-shadow: 0px 1px 2px rgba(60, 64, 67, 0.3), 0px 1px 3px 1px rgba(60, 64, 67, 0.15);\n",
       "      fill: #174EA6;\n",
       "    }\n",
       "\n",
       "    [theme=dark] .colab-df-convert {\n",
       "      background-color: #3B4455;\n",
       "      fill: #D2E3FC;\n",
       "    }\n",
       "\n",
       "    [theme=dark] .colab-df-convert:hover {\n",
       "      background-color: #434B5C;\n",
       "      box-shadow: 0px 1px 3px 1px rgba(0, 0, 0, 0.15);\n",
       "      filter: drop-shadow(0px 1px 2px rgba(0, 0, 0, 0.3));\n",
       "      fill: #FFFFFF;\n",
       "    }\n",
       "  </style>\n",
       "\n",
       "      <script>\n",
       "        const buttonEl =\n",
       "          document.querySelector('#df-c4a19e68-7e43-48ae-8b05-5874c97bf071 button.colab-df-convert');\n",
       "        buttonEl.style.display =\n",
       "          google.colab.kernel.accessAllowed ? 'block' : 'none';\n",
       "\n",
       "        async function convertToInteractive(key) {\n",
       "          const element = document.querySelector('#df-c4a19e68-7e43-48ae-8b05-5874c97bf071');\n",
       "          const dataTable =\n",
       "            await google.colab.kernel.invokeFunction('convertToInteractive',\n",
       "                                                     [key], {});\n",
       "          if (!dataTable) return;\n",
       "\n",
       "          const docLinkHtml = 'Like what you see? Visit the ' +\n",
       "            '<a target=\"_blank\" href=https://colab.research.google.com/notebooks/data_table.ipynb>data table notebook</a>'\n",
       "            + ' to learn more about interactive tables.';\n",
       "          element.innerHTML = '';\n",
       "          dataTable['output_type'] = 'display_data';\n",
       "          await google.colab.output.renderOutput(dataTable, element);\n",
       "          const docLink = document.createElement('div');\n",
       "          docLink.innerHTML = docLinkHtml;\n",
       "          element.appendChild(docLink);\n",
       "        }\n",
       "      </script>\n",
       "    </div>\n",
       "  </div>\n",
       "  "
      ],
      "text/plain": [
       "                                  person_id      district\n",
       "0      50c4c7e2-89a6-440b-a8e3-c44aa2c6150e   Metdunstone\n",
       "1      16f3bafb-9556-434e-adab-cb02f41fe32a  Tashnerspool\n",
       "2      0fa17eee-7214-4609-97fe-dd3093601800  Tashnerspool\n",
       "3      8db4ca66-dfb2-43f2-9c22-aa861dd0d218         Ulven\n",
       "4      51fed64a-375e-417f-94e4-4d27c368ea44     Red Onvey\n",
       "...                                     ...           ...\n",
       "69995  8cbea1e2-3257-4db5-ae59-84faa48cfde2     Bluffssel\n",
       "69996  e099ace5-a760-4362-a9ea-ae8cee590b86   Highnantmar\n",
       "69997  e9b0604e-ec84-4704-8e75-eabfd59ac4fb  Tashnerspool\n",
       "69998  e20f8ec5-0ddf-4674-ac1f-d6280b6640ab   Highnantmar\n",
       "69999  4d86ea85-2eaf-457a-bdba-73ff21830588    San Readma\n",
       "\n",
       "[70000 rows x 2 columns]"
      ]
     },
     "execution_count": 5,
     "metadata": {},
     "output_type": "execute_result"
    }
   ],
   "source": [
    "df_person_district"
   ]
  },
  {
   "cell_type": "markdown",
   "id": "rg9eCgaZ2W1g",
   "metadata": {
    "id": "rg9eCgaZ2W1g"
   },
   "source": [
    "df_districts_house_prices\n",
    "\n",
    "includes information about each district and the prices of the houses in the district\n",
    "\n",
    "- district: the name of the district\n",
    "- house_price: the price of the house\n",
    "- house_number: the house number in the district"
   ]
  },
  {
   "cell_type": "code",
   "execution_count": null,
   "id": "C-1xDZpe2W1g",
   "metadata": {
    "colab": {
     "base_uri": "https://localhost:8080/",
     "height": 424
    },
    "id": "C-1xDZpe2W1g",
    "outputId": "48e1019f-7b53-4224-fee8-dd1d9d7e38b7"
   },
   "outputs": [
    {
     "data": {
      "text/html": [
       "\n",
       "  <div id=\"df-897be21d-c166-41aa-bd74-ab94459df850\">\n",
       "    <div class=\"colab-df-container\">\n",
       "      <div>\n",
       "<style scoped>\n",
       "    .dataframe tbody tr th:only-of-type {\n",
       "        vertical-align: middle;\n",
       "    }\n",
       "\n",
       "    .dataframe tbody tr th {\n",
       "        vertical-align: top;\n",
       "    }\n",
       "\n",
       "    .dataframe thead th {\n",
       "        text-align: right;\n",
       "    }\n",
       "</style>\n",
       "<table border=\"1\" class=\"dataframe\">\n",
       "  <thead>\n",
       "    <tr style=\"text-align: right;\">\n",
       "      <th></th>\n",
       "      <th>district</th>\n",
       "      <th>house_price</th>\n",
       "      <th>house_number</th>\n",
       "    </tr>\n",
       "  </thead>\n",
       "  <tbody>\n",
       "    <tr>\n",
       "      <th>0</th>\n",
       "      <td>Celowsgan</td>\n",
       "      <td>160652.0</td>\n",
       "      <td>1</td>\n",
       "    </tr>\n",
       "    <tr>\n",
       "      <th>1</th>\n",
       "      <td>Celowsgan</td>\n",
       "      <td>159219.0</td>\n",
       "      <td>2</td>\n",
       "    </tr>\n",
       "    <tr>\n",
       "      <th>2</th>\n",
       "      <td>Celowsgan</td>\n",
       "      <td>161543.0</td>\n",
       "      <td>3</td>\n",
       "    </tr>\n",
       "    <tr>\n",
       "      <th>3</th>\n",
       "      <td>Celowsgan</td>\n",
       "      <td>158944.0</td>\n",
       "      <td>4</td>\n",
       "    </tr>\n",
       "    <tr>\n",
       "      <th>4</th>\n",
       "      <td>Celowsgan</td>\n",
       "      <td>164121.0</td>\n",
       "      <td>5</td>\n",
       "    </tr>\n",
       "    <tr>\n",
       "      <th>...</th>\n",
       "      <td>...</td>\n",
       "      <td>...</td>\n",
       "      <td>...</td>\n",
       "    </tr>\n",
       "    <tr>\n",
       "      <th>1358</th>\n",
       "      <td>El Willong</td>\n",
       "      <td>932441.0</td>\n",
       "      <td>30</td>\n",
       "    </tr>\n",
       "    <tr>\n",
       "      <th>1359</th>\n",
       "      <td>El Willong</td>\n",
       "      <td>890190.0</td>\n",
       "      <td>31</td>\n",
       "    </tr>\n",
       "    <tr>\n",
       "      <th>1360</th>\n",
       "      <td>El Willong</td>\n",
       "      <td>892096.0</td>\n",
       "      <td>32</td>\n",
       "    </tr>\n",
       "    <tr>\n",
       "      <th>1361</th>\n",
       "      <td>El Willong</td>\n",
       "      <td>935117.0</td>\n",
       "      <td>33</td>\n",
       "    </tr>\n",
       "    <tr>\n",
       "      <th>1362</th>\n",
       "      <td>El Willong</td>\n",
       "      <td>953480.0</td>\n",
       "      <td>34</td>\n",
       "    </tr>\n",
       "  </tbody>\n",
       "</table>\n",
       "<p>1363 rows × 3 columns</p>\n",
       "</div>\n",
       "      <button class=\"colab-df-convert\" onclick=\"convertToInteractive('df-897be21d-c166-41aa-bd74-ab94459df850')\"\n",
       "              title=\"Convert this dataframe to an interactive table.\"\n",
       "              style=\"display:none;\">\n",
       "        \n",
       "  <svg xmlns=\"http://www.w3.org/2000/svg\" height=\"24px\"viewBox=\"0 0 24 24\"\n",
       "       width=\"24px\">\n",
       "    <path d=\"M0 0h24v24H0V0z\" fill=\"none\"/>\n",
       "    <path d=\"M18.56 5.44l.94 2.06.94-2.06 2.06-.94-2.06-.94-.94-2.06-.94 2.06-2.06.94zm-11 1L8.5 8.5l.94-2.06 2.06-.94-2.06-.94L8.5 2.5l-.94 2.06-2.06.94zm10 10l.94 2.06.94-2.06 2.06-.94-2.06-.94-.94-2.06-.94 2.06-2.06.94z\"/><path d=\"M17.41 7.96l-1.37-1.37c-.4-.4-.92-.59-1.43-.59-.52 0-1.04.2-1.43.59L10.3 9.45l-7.72 7.72c-.78.78-.78 2.05 0 2.83L4 21.41c.39.39.9.59 1.41.59.51 0 1.02-.2 1.41-.59l7.78-7.78 2.81-2.81c.8-.78.8-2.07 0-2.86zM5.41 20L4 18.59l7.72-7.72 1.47 1.35L5.41 20z\"/>\n",
       "  </svg>\n",
       "      </button>\n",
       "      \n",
       "  <style>\n",
       "    .colab-df-container {\n",
       "      display:flex;\n",
       "      flex-wrap:wrap;\n",
       "      gap: 12px;\n",
       "    }\n",
       "\n",
       "    .colab-df-convert {\n",
       "      background-color: #E8F0FE;\n",
       "      border: none;\n",
       "      border-radius: 50%;\n",
       "      cursor: pointer;\n",
       "      display: none;\n",
       "      fill: #1967D2;\n",
       "      height: 32px;\n",
       "      padding: 0 0 0 0;\n",
       "      width: 32px;\n",
       "    }\n",
       "\n",
       "    .colab-df-convert:hover {\n",
       "      background-color: #E2EBFA;\n",
       "      box-shadow: 0px 1px 2px rgba(60, 64, 67, 0.3), 0px 1px 3px 1px rgba(60, 64, 67, 0.15);\n",
       "      fill: #174EA6;\n",
       "    }\n",
       "\n",
       "    [theme=dark] .colab-df-convert {\n",
       "      background-color: #3B4455;\n",
       "      fill: #D2E3FC;\n",
       "    }\n",
       "\n",
       "    [theme=dark] .colab-df-convert:hover {\n",
       "      background-color: #434B5C;\n",
       "      box-shadow: 0px 1px 3px 1px rgba(0, 0, 0, 0.15);\n",
       "      filter: drop-shadow(0px 1px 2px rgba(0, 0, 0, 0.3));\n",
       "      fill: #FFFFFF;\n",
       "    }\n",
       "  </style>\n",
       "\n",
       "      <script>\n",
       "        const buttonEl =\n",
       "          document.querySelector('#df-897be21d-c166-41aa-bd74-ab94459df850 button.colab-df-convert');\n",
       "        buttonEl.style.display =\n",
       "          google.colab.kernel.accessAllowed ? 'block' : 'none';\n",
       "\n",
       "        async function convertToInteractive(key) {\n",
       "          const element = document.querySelector('#df-897be21d-c166-41aa-bd74-ab94459df850');\n",
       "          const dataTable =\n",
       "            await google.colab.kernel.invokeFunction('convertToInteractive',\n",
       "                                                     [key], {});\n",
       "          if (!dataTable) return;\n",
       "\n",
       "          const docLinkHtml = 'Like what you see? Visit the ' +\n",
       "            '<a target=\"_blank\" href=https://colab.research.google.com/notebooks/data_table.ipynb>data table notebook</a>'\n",
       "            + ' to learn more about interactive tables.';\n",
       "          element.innerHTML = '';\n",
       "          dataTable['output_type'] = 'display_data';\n",
       "          await google.colab.output.renderOutput(dataTable, element);\n",
       "          const docLink = document.createElement('div');\n",
       "          docLink.innerHTML = docLinkHtml;\n",
       "          element.appendChild(docLink);\n",
       "        }\n",
       "      </script>\n",
       "    </div>\n",
       "  </div>\n",
       "  "
      ],
      "text/plain": [
       "        district  house_price  house_number\n",
       "0      Celowsgan     160652.0             1\n",
       "1      Celowsgan     159219.0             2\n",
       "2      Celowsgan     161543.0             3\n",
       "3      Celowsgan     158944.0             4\n",
       "4      Celowsgan     164121.0             5\n",
       "...          ...          ...           ...\n",
       "1358  El Willong     932441.0            30\n",
       "1359  El Willong     890190.0            31\n",
       "1360  El Willong     892096.0            32\n",
       "1361  El Willong     935117.0            33\n",
       "1362  El Willong     953480.0            34\n",
       "\n",
       "[1363 rows x 3 columns]"
      ]
     },
     "execution_count": 6,
     "metadata": {},
     "output_type": "execute_result"
    }
   ],
   "source": [
    "df_districts_house_prices"
   ]
  },
  {
   "cell_type": "markdown",
   "id": "gOlTNFFq2W1h",
   "metadata": {
    "id": "gOlTNFFq2W1h"
   },
   "source": [
    "df_person_data\n",
    "\n",
    "includes personal information about each of the customers and relevant information to their video gaming habits\n",
    "\n",
    "- person_id: identifier for a person\n",
    "- age: the age of the person\n",
    "- n_kids: the number of kids this person has\n",
    "- n_vg: the number of video games the person owns\n",
    "- n_con: the number of video game consols the person owns\n",
    "- n_presub: the number of premium subscription the person owns\n",
    "- n_hours_playing: the total number of hours this person play per month "
   ]
  },
  {
   "cell_type": "code",
   "execution_count": null,
   "id": "_NwOWPqK2W1i",
   "metadata": {
    "colab": {
     "base_uri": "https://localhost:8080/",
     "height": 424
    },
    "id": "_NwOWPqK2W1i",
    "outputId": "f94d7a02-8b7e-4954-c3b1-dc90d3a07ab3"
   },
   "outputs": [
    {
     "data": {
      "text/html": [
       "\n",
       "  <div id=\"df-994ab478-f84f-4587-b7c0-2e1b0255a53f\">\n",
       "    <div class=\"colab-df-container\">\n",
       "      <div>\n",
       "<style scoped>\n",
       "    .dataframe tbody tr th:only-of-type {\n",
       "        vertical-align: middle;\n",
       "    }\n",
       "\n",
       "    .dataframe tbody tr th {\n",
       "        vertical-align: top;\n",
       "    }\n",
       "\n",
       "    .dataframe thead th {\n",
       "        text-align: right;\n",
       "    }\n",
       "</style>\n",
       "<table border=\"1\" class=\"dataframe\">\n",
       "  <thead>\n",
       "    <tr style=\"text-align: right;\">\n",
       "      <th></th>\n",
       "      <th>person_id</th>\n",
       "      <th>age</th>\n",
       "      <th>n_kids</th>\n",
       "      <th>n_vg</th>\n",
       "      <th>n_con</th>\n",
       "      <th>n_presub</th>\n",
       "      <th>n_hours_playing</th>\n",
       "    </tr>\n",
       "  </thead>\n",
       "  <tbody>\n",
       "    <tr>\n",
       "      <th>0</th>\n",
       "      <td>50c4c7e2-89a6-440b-a8e3-c44aa2c6150e</td>\n",
       "      <td>14.0</td>\n",
       "      <td>0</td>\n",
       "      <td>0</td>\n",
       "      <td>0</td>\n",
       "      <td>0</td>\n",
       "      <td>18.422745</td>\n",
       "    </tr>\n",
       "    <tr>\n",
       "      <th>1</th>\n",
       "      <td>16f3bafb-9556-434e-adab-cb02f41fe32a</td>\n",
       "      <td>18.0</td>\n",
       "      <td>0</td>\n",
       "      <td>2</td>\n",
       "      <td>0</td>\n",
       "      <td>0</td>\n",
       "      <td>20.693273</td>\n",
       "    </tr>\n",
       "    <tr>\n",
       "      <th>2</th>\n",
       "      <td>0fa17eee-7214-4609-97fe-dd3093601800</td>\n",
       "      <td>28.0</td>\n",
       "      <td>0</td>\n",
       "      <td>3</td>\n",
       "      <td>0</td>\n",
       "      <td>0</td>\n",
       "      <td>22.412490</td>\n",
       "    </tr>\n",
       "    <tr>\n",
       "      <th>3</th>\n",
       "      <td>8db4ca66-dfb2-43f2-9c22-aa861dd0d218</td>\n",
       "      <td>20.0</td>\n",
       "      <td>1</td>\n",
       "      <td>72</td>\n",
       "      <td>0</td>\n",
       "      <td>0</td>\n",
       "      <td>299.187025</td>\n",
       "    </tr>\n",
       "    <tr>\n",
       "      <th>4</th>\n",
       "      <td>51fed64a-375e-417f-94e4-4d27c368ea44</td>\n",
       "      <td>32.0</td>\n",
       "      <td>1</td>\n",
       "      <td>58</td>\n",
       "      <td>1</td>\n",
       "      <td>3</td>\n",
       "      <td>20.367141</td>\n",
       "    </tr>\n",
       "    <tr>\n",
       "      <th>...</th>\n",
       "      <td>...</td>\n",
       "      <td>...</td>\n",
       "      <td>...</td>\n",
       "      <td>...</td>\n",
       "      <td>...</td>\n",
       "      <td>...</td>\n",
       "      <td>...</td>\n",
       "    </tr>\n",
       "    <tr>\n",
       "      <th>69995</th>\n",
       "      <td>8cbea1e2-3257-4db5-ae59-84faa48cfde2</td>\n",
       "      <td>32.0</td>\n",
       "      <td>4</td>\n",
       "      <td>62</td>\n",
       "      <td>1</td>\n",
       "      <td>2</td>\n",
       "      <td>21.378288</td>\n",
       "    </tr>\n",
       "    <tr>\n",
       "      <th>69996</th>\n",
       "      <td>e099ace5-a760-4362-a9ea-ae8cee590b86</td>\n",
       "      <td>36.0</td>\n",
       "      <td>0</td>\n",
       "      <td>53</td>\n",
       "      <td>1</td>\n",
       "      <td>1</td>\n",
       "      <td>3.707476</td>\n",
       "    </tr>\n",
       "    <tr>\n",
       "      <th>69997</th>\n",
       "      <td>e9b0604e-ec84-4704-8e75-eabfd59ac4fb</td>\n",
       "      <td>19.0</td>\n",
       "      <td>0</td>\n",
       "      <td>1</td>\n",
       "      <td>1</td>\n",
       "      <td>0</td>\n",
       "      <td>23.809075</td>\n",
       "    </tr>\n",
       "    <tr>\n",
       "      <th>69998</th>\n",
       "      <td>e20f8ec5-0ddf-4674-ac1f-d6280b6640ab</td>\n",
       "      <td>31.0</td>\n",
       "      <td>2</td>\n",
       "      <td>49</td>\n",
       "      <td>3</td>\n",
       "      <td>2</td>\n",
       "      <td>15.708397</td>\n",
       "    </tr>\n",
       "    <tr>\n",
       "      <th>69999</th>\n",
       "      <td>4d86ea85-2eaf-457a-bdba-73ff21830588</td>\n",
       "      <td>20.0</td>\n",
       "      <td>0</td>\n",
       "      <td>3</td>\n",
       "      <td>0</td>\n",
       "      <td>2</td>\n",
       "      <td>30.796314</td>\n",
       "    </tr>\n",
       "  </tbody>\n",
       "</table>\n",
       "<p>70000 rows × 7 columns</p>\n",
       "</div>\n",
       "      <button class=\"colab-df-convert\" onclick=\"convertToInteractive('df-994ab478-f84f-4587-b7c0-2e1b0255a53f')\"\n",
       "              title=\"Convert this dataframe to an interactive table.\"\n",
       "              style=\"display:none;\">\n",
       "        \n",
       "  <svg xmlns=\"http://www.w3.org/2000/svg\" height=\"24px\"viewBox=\"0 0 24 24\"\n",
       "       width=\"24px\">\n",
       "    <path d=\"M0 0h24v24H0V0z\" fill=\"none\"/>\n",
       "    <path d=\"M18.56 5.44l.94 2.06.94-2.06 2.06-.94-2.06-.94-.94-2.06-.94 2.06-2.06.94zm-11 1L8.5 8.5l.94-2.06 2.06-.94-2.06-.94L8.5 2.5l-.94 2.06-2.06.94zm10 10l.94 2.06.94-2.06 2.06-.94-2.06-.94-.94-2.06-.94 2.06-2.06.94z\"/><path d=\"M17.41 7.96l-1.37-1.37c-.4-.4-.92-.59-1.43-.59-.52 0-1.04.2-1.43.59L10.3 9.45l-7.72 7.72c-.78.78-.78 2.05 0 2.83L4 21.41c.39.39.9.59 1.41.59.51 0 1.02-.2 1.41-.59l7.78-7.78 2.81-2.81c.8-.78.8-2.07 0-2.86zM5.41 20L4 18.59l7.72-7.72 1.47 1.35L5.41 20z\"/>\n",
       "  </svg>\n",
       "      </button>\n",
       "      \n",
       "  <style>\n",
       "    .colab-df-container {\n",
       "      display:flex;\n",
       "      flex-wrap:wrap;\n",
       "      gap: 12px;\n",
       "    }\n",
       "\n",
       "    .colab-df-convert {\n",
       "      background-color: #E8F0FE;\n",
       "      border: none;\n",
       "      border-radius: 50%;\n",
       "      cursor: pointer;\n",
       "      display: none;\n",
       "      fill: #1967D2;\n",
       "      height: 32px;\n",
       "      padding: 0 0 0 0;\n",
       "      width: 32px;\n",
       "    }\n",
       "\n",
       "    .colab-df-convert:hover {\n",
       "      background-color: #E2EBFA;\n",
       "      box-shadow: 0px 1px 2px rgba(60, 64, 67, 0.3), 0px 1px 3px 1px rgba(60, 64, 67, 0.15);\n",
       "      fill: #174EA6;\n",
       "    }\n",
       "\n",
       "    [theme=dark] .colab-df-convert {\n",
       "      background-color: #3B4455;\n",
       "      fill: #D2E3FC;\n",
       "    }\n",
       "\n",
       "    [theme=dark] .colab-df-convert:hover {\n",
       "      background-color: #434B5C;\n",
       "      box-shadow: 0px 1px 3px 1px rgba(0, 0, 0, 0.15);\n",
       "      filter: drop-shadow(0px 1px 2px rgba(0, 0, 0, 0.3));\n",
       "      fill: #FFFFFF;\n",
       "    }\n",
       "  </style>\n",
       "\n",
       "      <script>\n",
       "        const buttonEl =\n",
       "          document.querySelector('#df-994ab478-f84f-4587-b7c0-2e1b0255a53f button.colab-df-convert');\n",
       "        buttonEl.style.display =\n",
       "          google.colab.kernel.accessAllowed ? 'block' : 'none';\n",
       "\n",
       "        async function convertToInteractive(key) {\n",
       "          const element = document.querySelector('#df-994ab478-f84f-4587-b7c0-2e1b0255a53f');\n",
       "          const dataTable =\n",
       "            await google.colab.kernel.invokeFunction('convertToInteractive',\n",
       "                                                     [key], {});\n",
       "          if (!dataTable) return;\n",
       "\n",
       "          const docLinkHtml = 'Like what you see? Visit the ' +\n",
       "            '<a target=\"_blank\" href=https://colab.research.google.com/notebooks/data_table.ipynb>data table notebook</a>'\n",
       "            + ' to learn more about interactive tables.';\n",
       "          element.innerHTML = '';\n",
       "          dataTable['output_type'] = 'display_data';\n",
       "          await google.colab.output.renderOutput(dataTable, element);\n",
       "          const docLink = document.createElement('div');\n",
       "          docLink.innerHTML = docLinkHtml;\n",
       "          element.appendChild(docLink);\n",
       "        }\n",
       "      </script>\n",
       "    </div>\n",
       "  </div>\n",
       "  "
      ],
      "text/plain": [
       "                                  person_id   age  n_kids  n_vg  n_con  \\\n",
       "0      50c4c7e2-89a6-440b-a8e3-c44aa2c6150e  14.0       0     0      0   \n",
       "1      16f3bafb-9556-434e-adab-cb02f41fe32a  18.0       0     2      0   \n",
       "2      0fa17eee-7214-4609-97fe-dd3093601800  28.0       0     3      0   \n",
       "3      8db4ca66-dfb2-43f2-9c22-aa861dd0d218  20.0       1    72      0   \n",
       "4      51fed64a-375e-417f-94e4-4d27c368ea44  32.0       1    58      1   \n",
       "...                                     ...   ...     ...   ...    ...   \n",
       "69995  8cbea1e2-3257-4db5-ae59-84faa48cfde2  32.0       4    62      1   \n",
       "69996  e099ace5-a760-4362-a9ea-ae8cee590b86  36.0       0    53      1   \n",
       "69997  e9b0604e-ec84-4704-8e75-eabfd59ac4fb  19.0       0     1      1   \n",
       "69998  e20f8ec5-0ddf-4674-ac1f-d6280b6640ab  31.0       2    49      3   \n",
       "69999  4d86ea85-2eaf-457a-bdba-73ff21830588  20.0       0     3      0   \n",
       "\n",
       "       n_presub  n_hours_playing  \n",
       "0             0        18.422745  \n",
       "1             0        20.693273  \n",
       "2             0        22.412490  \n",
       "3             0       299.187025  \n",
       "4             3        20.367141  \n",
       "...         ...              ...  \n",
       "69995         2        21.378288  \n",
       "69996         1         3.707476  \n",
       "69997         0        23.809075  \n",
       "69998         2        15.708397  \n",
       "69999         2        30.796314  \n",
       "\n",
       "[70000 rows x 7 columns]"
      ]
     },
     "execution_count": 7,
     "metadata": {},
     "output_type": "execute_result"
    }
   ],
   "source": [
    "df_person_data"
   ]
  },
  {
   "cell_type": "markdown",
   "id": "9qGncnKJ2W1k",
   "metadata": {
    "id": "9qGncnKJ2W1k"
   },
   "source": [
    "## Quick EDA\n",
    "\n",
    "The goals of these questions is to evaluate your plotting, data mangling, and plot interpretation skills.   \n",
    "Use whatever libraries you are comfortable with.   \n",
    "Code clarity and cleanliness are also highly valuable.   "
   ]
  },
  {
   "cell_type": "markdown",
   "id": "ABlz0fgc2W1k",
   "metadata": {
    "id": "ABlz0fgc2W1k"
   },
   "source": [
    "### 1. Plot each district's house prices distribution with marking the mean by a vertical line\n"
   ]
  },
  {
   "cell_type": "code",
   "execution_count": 50,
   "id": "4jZqLx5d2W1l",
   "metadata": {
    "colab": {
     "base_uri": "https://localhost:8080/",
     "height": 295
    },
    "id": "4jZqLx5d2W1l",
    "outputId": "18525b3a-8dfa-406b-a1b3-de08ec49f24d"
   },
   "outputs": [
    {
     "name": "stdout",
     "output_type": "stream",
     "text": [
      "491065.3446745562\n"
     ]
    },
    {
     "data": {
      "image/png": "[encoded data removed]",
      "text/plain": [
       "<Figure size 432x288 with 1 Axes>"
      ]
     },
     "metadata": {
      "needs_background": "light"
     },
     "output_type": "display_data"
    }
   ],
   "source": [
    "import matplotlib.pyplot as plt\n",
    "import numpy as np\n",
    "mean = np.mean(df_districts_house_prices.house_price)\n",
    "print(mean)\n",
    "plt.plot(df_districts_house_prices.house_price, markevery=491065, marker='^')\n",
    "# plt.xlim([0, len(df_districts_house_prices)])\n",
    "plt.show()\n",
    "\n",
    "# plt.axvline(mean)\n",
    "# plt.show()\n",
    "\n",
    "# df_districts_house_prices.house_price"
   ]
  },
  {
   "cell_type": "markdown",
   "id": "_giA1idv2W1l",
   "metadata": {
    "id": "_giA1idv2W1l"
   },
   "source": [
    "### 2. Combine all of the three data sources into one table to use in further analysis. "
   ]
  },
  {
   "cell_type": "code",
   "execution_count": 3,
   "id": "ejv5wMuH2W1l",
   "metadata": {
    "colab": {
     "base_uri": "https://localhost:8080/"
    },
    "id": "ejv5wMuH2W1l",
    "outputId": "333cd7ac-530b-4e3b-fa80-6f66aae7181a"
   },
   "outputs": [
    {
     "name": "stdout",
     "output_type": "stream",
     "text": [
      "(2014067, 10)\n"
     ]
    },
    {
     "data": {
      "text/plain": [
       "person_id          0\n",
       "district           0\n",
       "house_price        0\n",
       "house_number       0\n",
       "age                0\n",
       "n_kids             0\n",
       "n_vg               0\n",
       "n_con              0\n",
       "n_presub           0\n",
       "n_hours_playing    0\n",
       "dtype: int64"
      ]
     },
     "execution_count": 3,
     "metadata": {},
     "output_type": "execute_result"
    }
   ],
   "source": [
    "n = df_person_district.merge(df_districts_house_prices)\n",
    "new_table = n.merge(df_person_data)\n",
    "print(new_table.shape)\n",
    "new_table.dropna(inplace = True)\n",
    "new_table.isna().sum()"
   ]
  },
  {
   "cell_type": "markdown",
   "id": "JclKnayW2W1m",
   "metadata": {
    "id": "JclKnayW2W1m"
   },
   "source": [
    "### 3. Plot age vs avg house price. What does this plot tell you? (younger people live in more expensive districts)"
   ]
  },
  {
   "cell_type": "code",
   "execution_count": 19,
   "id": "8zfrz9Hj2W1m",
   "metadata": {
    "colab": {
     "base_uri": "https://localhost:8080/",
     "height": 1000
    },
    "id": "8zfrz9Hj2W1m",
    "outputId": "2ad8943e-6328-4b7b-abdf-8c60b5f3e7c5"
   },
   "outputs": [
    {
     "data": {
      "image/png": "[encoded data removed]",
      "text/plain": [
       "<Figure size 432x288 with 1 Axes>"
      ]
     },
     "metadata": {
      "needs_background": "light"
     },
     "output_type": "display_data"
    }
   ],
   "source": [
    "# new_table.columns\n",
    "\n",
    "# sns.swarmplot(x = 'age', y = 'n_vg', data = new_table)\n",
    "avg_price = new_table['house_price']/len(new_table)\n",
    "new_table['avg_price'] = avg_price\n",
    "plt.scatter('age', 'avg_price', data = new_table)\n",
    "plt.xlabel('Age')\n",
    "plt.ylabel('Avg house price')\n",
    "plt.show()"
   ]
  },
  {
   "cell_type": "markdown",
   "id": "k84qy5vZ2W1m",
   "metadata": {
    "id": "k84qy5vZ2W1m"
   },
   "source": [
    "## Probability and Statistics:\n",
    "\n",
    "The goal of these questions is to test your ability to answer probability and stat questions with code.   \n",
    "Use whatever libraries you are comfortable with.   \n",
    "Code clarity and cleanliness are also highly valuable.   \n"
   ]
  },
  {
   "cell_type": "markdown",
   "id": "mjm0Bge62W1n",
   "metadata": {
    "id": "mjm0Bge62W1n"
   },
   "source": [
    "### 1. What's the probability of a customer having 2 kids"
   ]
  },
  {
   "cell_type": "code",
   "execution_count": 27,
   "id": "MQLIwUQ52W1n",
   "metadata": {
    "colab": {
     "base_uri": "https://localhost:8080/"
    },
    "id": "MQLIwUQ52W1n",
    "outputId": "b3a9570c-9fe1-49ca-a215-47b597f7808b"
   },
   "outputs": [
    {
     "name": "stdout",
     "output_type": "stream",
     "text": [
      "n_kids\n",
      "2    0.09569\n",
      "dtype: float64\n"
     ]
    }
   ],
   "source": [
    "having_two_kids = new_table[new_table.n_kids == 2]\n",
    "print(having_two_kids.groupby('n_kids').size().div(len(new_table))\n",
    ")\n",
    "# probabilty for all kids\n",
    "# print(new_table.groupby('n_kids').size().div(len(new_table)))  "
   ]
  },
  {
   "cell_type": "markdown",
   "id": "LIdrzsx-2W1n",
   "metadata": {
    "id": "LIdrzsx-2W1n"
   },
   "source": [
    "### 2. What's the probability of a customer owning more than 10 video games given that they have less than 2 kids"
   ]
  },
  {
   "cell_type": "code",
   "execution_count": 62,
   "id": "ujDNxZT12W1n",
   "metadata": {
    "colab": {
     "base_uri": "https://localhost:8080/"
    },
    "id": "ujDNxZT12W1n",
    "outputId": "7a73e270-72ff-4a0c-ce5a-175f94766702"
   },
   "outputs": [
    {
     "name": "stderr",
     "output_type": "stream",
     "text": [
      "C:\\Users\\Dell\\AppData\\Local\\Temp/ipykernel_5032/1234670754.py:8: UserWarning: Boolean Series key will be reindexed to match DataFrame index.\n",
      "  temp = less_than_2_above_10_game_owing[new_table.n_kids < 2].groupby(['n_kids', 'n_vg']).size().div(len(new_table))\n"
     ]
    },
    {
     "data": {
      "text/plain": [
       "2.9840109920766837e-05"
      ]
     },
     "execution_count": 62,
     "metadata": {},
     "output_type": "execute_result"
    }
   ],
   "source": [
    "less_than_2_above_10_game_owing = new_table[(new_table.n_kids < 2) & (new_table.n_vg > 10)]\n",
    "# # less_than_2_above_10_game_owing.shape\n",
    "# # print(less_than_2_above_10_game_owing.groupby(['n_kids', 'n_vg']).size().div(len(new_table)))\n",
    "\n",
    "# sample_space = new_table[(new_table.n_kids < 2) & (new_table.n_vg > 10)].drop_duplicates()\n",
    "prob_more_10_games = new_table[new_table.n_vg > 10].groupby('n_vg').size().div(len(new_table))\n",
    "prob_less_2_kids = new_table[new_table.n_kids < 2].groupby('n_kids').size().div(len(new_table))\n",
    "temp = less_than_2_above_10_game_owing[new_table.n_kids < 2].groupby(['n_kids', 'n_vg']).size().div(len(new_table))\n",
    "\n",
    "# temp = less_than_2_above_10_game_owing * prob_more_10_games\n",
    "# prob_10_games_given_that_less_than_2_kids = temp.div(prob_less_2_kids)\n",
    "# temp\n",
    "# new_table.columns \n",
    "\n",
    "prob_more_10_games\n",
    "prob_less_2_kids\n",
    "temp\n",
    "mean_prob_more_10_games = np.mean(prob_more_10_games)\n",
    "mean_prob_less_2_kids = np.mean(prob_less_2_kids)\n",
    "mean_less_than_2_above_10_game_owing = np.mean(temp)\n",
    "\n",
    "prob_10_games_given_that_less_than_2_kids = (mean_less_than_2_above_10_game_owing * mean_prob_more_10_games) / mean_prob_less_2_kids\n",
    "prob_10_games_given_that_less_than_2_kids\n"
   ]
  },
  {
   "cell_type": "markdown",
   "id": "Os58oz_j2W1o",
   "metadata": {
    "id": "Os58oz_j2W1o"
   },
   "source": [
    "### 3. Plot the distribution of the number of hours played by customers `n_hours_playing`. Briefly explain what you understand now about the customers' playing hours."
   ]
  },
  {
   "cell_type": "code",
   "execution_count": 59,
   "id": "Nqw6sRzY2W1o",
   "metadata": {
    "colab": {
     "base_uri": "https://localhost:8080/",
     "height": 278
    },
    "id": "Nqw6sRzY2W1o",
    "outputId": "2dc991a5-4ffa-4b2a-ad10-a8e1c767502b"
   },
   "outputs": [
    {
     "data": {
      "image/png": "[encoded data removed]",
      "text/plain": [
       "<Figure size 432x288 with 1 Axes>"
      ]
     },
     "metadata": {
      "needs_background": "light"
     },
     "output_type": "display_data"
    },
    {
     "data": {
      "image/png": "[encoded data removed]",
      "text/plain": [
       "<Figure size 432x288 with 1 Axes>"
      ]
     },
     "metadata": {
      "needs_background": "light"
     },
     "output_type": "display_data"
    }
   ],
   "source": [
    "def ecdf(data):\n",
    "    \"\"\"Compute ECDF for a one-dimensional array of measurements.\"\"\"\n",
    "    # Number of data points: n\n",
    "    n = len(data)\n",
    "\n",
    "    # x-data for the ECDF: x\n",
    "    x = np.sort(data)\n",
    "\n",
    "    # y-data for the ECDF: y\n",
    "    y = np.arange(1, n + 1) / n\n",
    "\n",
    "    return x, y\n",
    "\n",
    "\n",
    "# Compute ECDF for versicolor data: x_vers, y_vers\n",
    "x_vers, y_vers = ecdf(new_table.n_hours_playing)\n",
    "\n",
    "# Generate plot\n",
    "plt.plot(x_vers, y_vers, marker = '.', linestyle = 'none')\n",
    "\n",
    "# Label the axes\n",
    "plt.xlabel('n_hourse_playing')\n",
    "plt.ylabel('ECDF')\n",
    "\n",
    "# Display the plot\n",
    "plt.show()\n",
    "\n",
    "\n",
    "plt.hist('n_hours_playing', data = new_table,color = 'blue', edgecolor = 'black', bins = 30)\n",
    "plt.show()\n"
   ]
  },
  {
   "cell_type": "markdown",
   "id": "xJzQdeo82W1o",
   "metadata": {
    "id": "xJzQdeo82W1o"
   },
   "source": [
    "As you can see, most customers have a number of hours less than 50 so let's go ahead and remove any values less than 50.  \n",
    "The distribution of the remaining values look like a normal distribution.  \n",
    "###  4. Estimate the parameters (mean and std deviation) of this normal distribution computationally.  \\\n",
    "### (Bonus: plot the estimated normal distribution on top of the distribution of `n_hours_playing` after removing values < 50)"
   ]
  },
  {
   "cell_type": "code",
   "execution_count": 60,
   "id": "YyiY6CiL2W1o",
   "metadata": {
    "colab": {
     "base_uri": "https://localhost:8080/",
     "height": 295
    },
    "id": "YyiY6CiL2W1o",
    "outputId": "cc625655-4ef2-4433-b611-9da1ea10c94b"
   },
   "outputs": [
    {
     "name": "stdout",
     "output_type": "stream",
     "text": [
      "17.991044374294145 7.765827238837562\n"
     ]
    },
    {
     "data": {
      "image/png": "[encoded data removed]",
      "text/plain": [
       "<Figure size 432x288 with 1 Axes>"
      ]
     },
     "metadata": {
      "needs_background": "light"
     },
     "output_type": "display_data"
    },
    {
     "data": {
      "image/png": "[encoded data removed]",
      "text/plain": [
       "<Figure size 432x288 with 1 Axes>"
      ]
     },
     "metadata": {
      "needs_background": "light"
     },
     "output_type": "display_data"
    }
   ],
   "source": [
    "import numpy as np\n",
    "from scipy.stats import norm\n",
    "less_than_50_hours = new_table[new_table.n_hours_playing < 50]\n",
    "\n",
    "mean = np.mean(less_than_50_hours.n_hours_playing)\n",
    "std = np.std(less_than_50_hours.n_hours_playing)\n",
    "print(mean, std)\n",
    "\n",
    "\n",
    "\n",
    "plt.plot(less_than_50_hours.n_hours_playing, norm.pdf(less_than_50_hours.n_hours_playing, mean, std))\n",
    "plt.show()\n",
    "\n",
    "# Compute ECDF for versicolor data: x_vers, y_vers\n",
    "x_vers, y_vers = ecdf(less_than_50_hours.n_hours_playing)\n",
    "\n",
    "# Generate plot\n",
    "plt.plot(x_vers, y_vers, marker = '.', linestyle = 'none')\n",
    "\n",
    "# Label the axes\n",
    "plt.xlabel('n_hourse_playing')\n",
    "plt.ylabel('ECDF')\n",
    "\n",
    "# Display the plot\n",
    "plt.show()\n",
    "\n",
    "# import seaborn as sns\n",
    "\n",
    "# sns.displot(less_than_50_hours['n_hours_playing'])\n",
    "# plt.show()"
   ]
  },
  {
   "cell_type": "markdown",
   "id": "xrlTp4vl2W1p",
   "metadata": {
    "id": "xrlTp4vl2W1p"
   },
   "source": [
    "## Modeling\n",
    "The goal of this is to showcase your experimentation and model comparison process.  \n",
    "The performance of models is not as important as how you compare them and evaluate them against each other.  \n",
    "\n",
    "Use whatever libraries you are comfortable with.   \n",
    "Code clarity and cleanliness are also highly valuable.   "
   ]
  },
  {
   "cell_type": "markdown",
   "id": "cnXlQqOs2W1p",
   "metadata": {
    "id": "cnXlQqOs2W1p"
   },
   "source": [
    "### 1. Model the number of hours played for each customer. Show your experimentation with failed and successful models.\n",
    "### 2. Evaluate each experiment using appropriate metrics, cross validation, and plots. Show the predicted vs actual plot.\n",
    "### 3. Choose the best model for the data"
   ]
  },
  {
   "cell_type": "code",
   "execution_count": 101,
   "id": "lEAKZNOt2W1p",
   "metadata": {
    "id": "lEAKZNOt2W1p"
   },
   "outputs": [],
   "source": [
    "\n",
    "from sklearn.model_selection import train_test_split\n",
    "x = new_table[['age',\n",
    "               'n_kids', 'n_vg', 'n_con', 'n_presub']]\n",
    "y = new_table['n_hours_playing']\n"
   ]
  },
  {
   "cell_type": "code",
   "execution_count": 102,
   "id": "tkgv_cbp2W1p",
   "metadata": {
    "id": "tkgv_cbp2W1p"
   },
   "outputs": [
    {
     "name": "stdout",
     "output_type": "stream",
     "text": [
      "237.1282287734184\n"
     ]
    },
    {
     "data": {
      "image/png": "[encoded data removed]",
      "text/plain": [
       "<Figure size 432x288 with 1 Axes>"
      ]
     },
     "metadata": {
      "needs_background": "light"
     },
     "output_type": "display_data"
    },
    {
     "data": {
      "image/png": "[encoded data removed]",
      "text/plain": [
       "<Figure size 360x360 with 1 Axes>"
      ]
     },
     "metadata": {
      "needs_background": "light"
     },
     "output_type": "display_data"
    }
   ],
   "source": [
    "X_train, X_test, y_train, y_test = train_test_split(x, y, test_size=0.4, random_state=101)\n",
    "\n",
    "from sklearn.linear_model import LinearRegression\n",
    "\n",
    "lm = LinearRegression()\n",
    "\n",
    "lm.fit(X_train,y_train)\n",
    "\n",
    "print(lm.intercept_)\n",
    "\n",
    "# coeff_df = pd.DataFrame(lm.coef_,X.columns,columns=['Coefficient'])\n",
    "# coeff_df\n",
    "predictions = lm.predict(X_test)\n",
    "plt.scatter(y_test,predictions)\n",
    "\n",
    "sns.displot((y_test-predictions),bins=50);"
   ]
  },
  {
   "cell_type": "code",
   "execution_count": 219,
   "id": "c115eaf0",
   "metadata": {},
   "outputs": [
    {
     "name": "stdout",
     "output_type": "stream",
     "text": [
      "MAE: 83.06869100200022\n",
      "MSE: 11239.90126273525\n",
      "RMSE: 106.01840058563064\n"
     ]
    },
    {
     "data": {
      "text/plain": [
       "788090"
      ]
     },
     "execution_count": 219,
     "metadata": {},
     "output_type": "execute_result"
    }
   ],
   "source": [
    "from sklearn import metrics\n",
    "\n",
    "predictions\n",
    "print('MAE:', metrics.mean_absolute_error(y_test, predictions))\n",
    "print('MSE:', metrics.mean_squared_error(y_test, predictions))\n",
    "print('RMSE:', np.sqrt(metrics.mean_squared_error(y_test, predictions)))\n"
   ]
  },
  {
   "cell_type": "markdown",
   "id": "WySzCIY_2W1q",
   "metadata": {
    "id": "WySzCIY_2W1q"
   },
   "source": [
    "# Bonous MARKS ( 2 SOLD MARKS )"
   ]
  },
  {
   "cell_type": "markdown",
   "id": "gDm3SmdX2W1q",
   "metadata": {
    "id": "gDm3SmdX2W1q"
   },
   "source": [
    "## Segments\n",
    "\n",
    "### 1. The marketing team has mentioned that there exists multiple different customer segments within the data. Help the team find those different segments and separate the dataset appropriately. \n",
    "\n",
    "### 2. Model each segment independently to predict the number of hours played. Evaluate each model appropriately. How does your previous model for the overall data compare to the ones you created for each cluster?"
   ]
  },
  {
   "cell_type": "code",
   "execution_count": 214,
   "id": "XjAW56rl2W1q",
   "metadata": {
    "colab": {
     "base_uri": "https://localhost:8080/"
    },
    "id": "XjAW56rl2W1q",
    "outputId": "04ce58dc-b919-4e4b-e973-69a4ec0bf71d"
   },
   "outputs": [
    {
     "name": "stdout",
     "output_type": "stream",
     "text": [
      "[0 1 2 4 3 5]\n"
     ]
    }
   ],
   "source": [
    "new_table.columns\n",
    "new_table.groupby(['district', 'age', 'n_kids', 'n_vg', 'n_con', 'n_presub'])\n",
    "new_table\n",
    "\n",
    "\n",
    "\n",
    "grouped = new_table.groupby(new_table.n_kids)\n",
    "kids = new_table['n_kids'].unique()\n",
    "n_kids = pd.DataFrame()\n",
    "for i in kids:  \n",
    "    n_kids = age.append(grouped.get_group(i))\n",
    "\n",
    "print(n_kids['n_kids'].unique())\n",
    "\n",
    "\n",
    "\n",
    "grouped2 = new_table.groupby(new_table.n_vg)\n",
    "k = new_table['n_vg'].unique()\n",
    "n_vg = pd.DataFrame()\n",
    "for i in k:  \n",
    "    n_vg = n_vg.append(grouped2.get_group(i))\n",
    "\n",
    "# n_vg[n_vg['n_vg'] == 95]"
   ]
  },
  {
   "cell_type": "code",
   "execution_count": 212,
   "id": "SzIlL53k2W1q",
   "metadata": {
    "id": "SzIlL53k2W1q"
   },
   "outputs": [
    {
     "data": {
      "text/plain": [
       "0          14.0\n",
       "2          14.0\n",
       "3          14.0\n",
       "4          14.0\n",
       "5          14.0\n",
       "           ... \n",
       "1205319    54.0\n",
       "1205320    54.0\n",
       "1205321    54.0\n",
       "1205322    54.0\n",
       "1205323    54.0\n",
       "Name: age, Length: 1970251, dtype: float64"
      ]
     },
     "execution_count": 212,
     "metadata": {},
     "output_type": "execute_result"
    }
   ],
   "source": [
    "grouped2 = new_table.groupby(new_table.age)\n",
    "ag = new_table['age'].unique()\n",
    "age = pd.DataFrame()\n",
    "for i in ag:  \n",
    "    age = n_vg.append(grouped2.get_group(i))\n",
    "    \n",
    "age['age']"
   ]
  },
  {
   "cell_type": "code",
   "execution_count": 215,
   "id": "mEm2SxaZ2W1q",
   "metadata": {
    "id": "mEm2SxaZ2W1q"
   },
   "outputs": [
    {
     "name": "stdout",
     "output_type": "stream",
     "text": [
      "257.5460013405865\n",
      "MAE: 94.90024175460682\n",
      "MSE: 14241.760069274485\n",
      "RMSE: 119.33884560056079\n"
     ]
    },
    {
     "data": {
      "image/png": "[encoded data removed]",
      "text/plain": [
       "<Figure size 432x288 with 1 Axes>"
      ]
     },
     "metadata": {
      "needs_background": "light"
     },
     "output_type": "display_data"
    },
    {
     "data": {
      "image/png": "[encoded data removed]",
      "text/plain": [
       "<Figure size 360x360 with 1 Axes>"
      ]
     },
     "metadata": {
      "needs_background": "light"
     },
     "output_type": "display_data"
    }
   ],
   "source": [
    "\n",
    "from sklearn.model_selection import train_test_split\n",
    "x = new_table[['age',\n",
    "               'n_kids']]\n",
    "y = new_table['n_hours_playing']\n",
    "\n",
    "\n",
    "X_train, X_test, y_train, y_test = train_test_split(x, y, test_size=0.4, random_state=101)\n",
    "\n",
    "from sklearn.linear_model import LinearRegression\n",
    "\n",
    "lm = LinearRegression()\n",
    "\n",
    "lm.fit(X_train,y_train)\n",
    "\n",
    "print(lm.intercept_)\n",
    "\n",
    "# coeff_df = pd.DataFrame(lm.coef_,X.columns,columns=['Coefficient'])\n",
    "# coeff_df\n",
    "predictions = lm.predict(X_test)\n",
    "plt.scatter(y_test,predictions)\n",
    "\n",
    "sns.displot((y_test-predictions),bins=50);\n",
    "\n",
    "\n",
    "from sklearn import metrics\n",
    "\n",
    "print('MAE:', metrics.mean_absolute_error(y_test, predictions))\n",
    "print('MSE:', metrics.mean_squared_error(y_test, predictions))\n",
    "print('RMSE:', np.sqrt(metrics.mean_squared_error(y_test, predictions)))"
   ]
  },
  {
   "cell_type": "code",
   "execution_count": 216,
   "id": "R2uZEoff2W1q",
   "metadata": {
    "id": "R2uZEoff2W1q"
   },
   "outputs": [
    {
     "name": "stdout",
     "output_type": "stream",
     "text": [
      "1.0210402312306996\n",
      "MAE: 83.06869100200022\n",
      "MSE: 11239.90126273525\n",
      "RMSE: 106.01840058563064\n"
     ]
    },
    {
     "data": {
      "image/png": "[encoded data removed]",
      "text/plain": [
       "<Figure size 432x288 with 1 Axes>"
      ]
     },
     "metadata": {
      "needs_background": "light"
     },
     "output_type": "display_data"
    },
    {
     "data": {
      "image/png": "[encoded data removed]",
      "text/plain": [
       "<Figure size 360x360 with 1 Axes>"
      ]
     },
     "metadata": {
      "needs_background": "light"
     },
     "output_type": "display_data"
    }
   ],
   "source": [
    "\n",
    "from sklearn.model_selection import train_test_split\n",
    "x = new_table[['n_vg',\n",
    "               'n_con']]\n",
    "y = new_table['n_hours_playing']\n",
    "\n",
    "\n",
    "X_train, X_test, y_train, y_test = train_test_split(x, y, test_size=0.4, random_state=101)\n",
    "\n",
    "from sklearn.linear_model import LinearRegression\n",
    "\n",
    "lm = LinearRegression()\n",
    "\n",
    "lm.fit(X_train,y_train)\n",
    "\n",
    "print(lm.intercept_)\n",
    "\n",
    "# coeff_df = pd.DataFrame(lm.coef_,X.columns,columns=['Coefficient'])\n",
    "# coeff_df\n",
    "predictions = lm.predict(X_test)\n",
    "plt.scatter(y_test,predictions)\n",
    "\n",
    "sns.displot((y_test-predictions),bins=50);\n",
    "\n",
    "\n",
    "from sklearn import metrics\n",
    "\n",
    "print('MAE:', metrics.mean_absolute_error(y_test, predictions))\n",
    "print('MSE:', metrics.mean_squared_error(y_test, predictions))\n",
    "print('RMSE:', np.sqrt(metrics.mean_squared_error(y_test, predictions)))"
   ]
  },
  {
   "cell_type": "code",
   "execution_count": null,
   "id": "2aKDnmhf2W1r",
   "metadata": {
    "id": "2aKDnmhf2W1r"
   },
   "outputs": [],
   "source": []
  }
 ],
 "metadata": {
  "colab": {
   "collapsed_sections": [],
   "name": "Khizar_hayyat_F2019266166_W1_MID_Question_2_Data_Sciecne_Task_.ipynb",
   "provenance": []
  },
  "kernelspec": {
   "display_name": "Python 3 (ipykernel)",
   "language": "python",
   "name": "python3"
  },
  "language_info": {
   "codemirror_mode": {
    "name": "ipython",
    "version": 3
   },
   "file_extension": ".py",
   "mimetype": "text/x-python",
   "name": "python",
   "nbconvert_exporter": "python",
   "pygments_lexer": "ipython3",
   "version": "3.9.7"
  }
 },
 "nbformat": 4,
 "nbformat_minor": 5
}
